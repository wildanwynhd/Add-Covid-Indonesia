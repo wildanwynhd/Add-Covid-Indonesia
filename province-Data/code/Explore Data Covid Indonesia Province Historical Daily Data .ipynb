{
 "cells": [
  {
   "cell_type": "markdown",
   "metadata": {},
   "source": [
    "<h3 style='color:Yellow'> Get Covid Daily Data from API Postman</h3>"
   ]
  },
  {
   "cell_type": "code",
   "execution_count": 1,
   "metadata": {},
   "outputs": [
    {
     "name": "stdout",
     "output_type": "stream",
     "text": [
      "<Response [200]>\n",
      "{'Server': 'nginx', 'Date': 'Fri, 04 Mar 2022 16:18:21 GMT', 'Content-Type': 'application/json', 'Transfer-Encoding': 'chunked', 'Connection': 'keep-alive', 'Vary': 'Accept-Encoding, Accept-Encoding', 'Last-Modified': 'Fri, 04 Mar 2022 15:50:22 GMT', 'ETag': 'W/\"6222353e-4b54ea\"', 'X-Content-Type-Options': 'nosniff, nosniff', 'X-XSS-Protection': '1; mode=block, 1; mode=block', 'Strict-Transport-Security': 'max-age=31536000; includeSubDomains; preload', 'Content-Encoding': 'gzip'}\n"
     ]
    }
   ],
   "source": [
    "import requests\n",
    "import pandas as pd\n",
    "import numpy as np\n",
    "resp = requests.get('https://data.covid19.go.id/public/api/prov_time.json')\n",
    "print(resp)\n",
    "print(resp.headers)"
   ]
  },
  {
   "cell_type": "code",
   "execution_count": 2,
   "metadata": {},
   "outputs": [
    {
     "name": "stdout",
     "output_type": "stream",
     "text": [
      "Length of dataRaw_ProvinceIndonesia : 2.\n",
      "Komponen dataRaw_ProvinceIndonesia  : dict_keys(['missing_date', 'list']).\n",
      "<class 'dict'>\n"
     ]
    }
   ],
   "source": [
    "dataRaw = resp.json()\n",
    "print('Length of dataRaw_ProvinceIndonesia : %d.' %len(dataRaw))\n",
    "print('Komponen dataRaw_ProvinceIndonesia  : %s.' %dataRaw.keys())\n",
    "print(type(dataRaw))"
   ]
  },
  {
   "cell_type": "markdown",
   "metadata": {},
   "source": [
    "<h3 style='color:Yellow'> Access Dict List</h3>"
   ]
  },
  {
   "cell_type": "code",
   "execution_count": 3,
   "metadata": {},
   "outputs": [
    {
     "name": "stdout",
     "output_type": "stream",
     "text": [
      "<class 'list'>\n"
     ]
    }
   ],
   "source": [
    "# Access list data in dataRaw\n",
    "\n",
    "historicalDailyData_access = dataRaw['list'] # ==> menghasilkan data type list\n",
    "# historicalDailyData_access = dataRaw['list'][0] ==> menghasilkan data type dict \n",
    "\n",
    "# Check data type\n",
    "print(type(historicalDailyData_access))"
   ]
  },
  {
   "cell_type": "code",
   "execution_count": 4,
   "metadata": {},
   "outputs": [
    {
     "name": "stdout",
     "output_type": "stream",
     "text": [
      "<class 'dict'>\n"
     ]
    }
   ],
   "source": [
    "for list_Data in historicalDailyData_access:\n",
    "    list_Data\n",
    "\n",
    "print(type(list_Data))"
   ]
  },
  {
   "cell_type": "markdown",
   "metadata": {},
   "source": [
    "<h3 style='color:Yellow'> Percobaan ke-1</h3>"
   ]
  },
  {
   "cell_type": "code",
   "execution_count": 5,
   "metadata": {},
   "outputs": [
    {
     "name": "stdout",
     "output_type": "stream",
     "text": [
      "date\n",
      "total\n",
      "cur_total\n",
      "data\n"
     ]
    }
   ],
   "source": [
    "historicalDailyData = dataRaw['list'][0]\n",
    "\n",
    "for list in historicalDailyData:\n",
    "    print(list)"
   ]
  },
  {
   "cell_type": "code",
   "execution_count": null,
   "metadata": {},
   "outputs": [],
   "source": []
  }
 ],
 "metadata": {
  "interpreter": {
   "hash": "b5843a13e7131a14c3c0e364f0390d6592a995e3082c3f83420ac4385eeb2370"
  },
  "kernelspec": {
   "display_name": "Python 3.9.7 64-bit",
   "language": "python",
   "name": "python3"
  },
  "language_info": {
   "codemirror_mode": {
    "name": "ipython",
    "version": 3
   },
   "file_extension": ".py",
   "mimetype": "text/x-python",
   "name": "python",
   "nbconvert_exporter": "python",
   "pygments_lexer": "ipython3",
   "version": "3.9.7"
  },
  "orig_nbformat": 4
 },
 "nbformat": 4,
 "nbformat_minor": 2
}
