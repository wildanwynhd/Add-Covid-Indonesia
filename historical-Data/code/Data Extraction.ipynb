{
 "cells": [
  {
   "cell_type": "markdown",
   "metadata": {},
   "source": [
    "#### Data Extraction"
   ]
  },
  {
   "cell_type": "markdown",
   "metadata": {},
   "source": [
    "Get data from API"
   ]
  },
  {
   "cell_type": "code",
   "execution_count": 12,
   "metadata": {},
   "outputs": [
    {
     "name": "stdout",
     "output_type": "stream",
     "text": [
      "<Response [200]>\n",
      "{'Server': 'nginx', 'Date': 'Sat, 19 Mar 2022 07:28:45 GMT', 'Content-Type': 'application/json', 'Transfer-Encoding': 'chunked', 'Connection': 'keep-alive', 'Vary': 'Accept-Encoding, Accept-Encoding', 'Last-Modified': 'Sat, 19 Mar 2022 07:24:45 GMT', 'ETag': 'W/\"6235853d-46b7d\"', 'X-Content-Type-Options': 'nosniff, nosniff', 'X-XSS-Protection': '1; mode=block, 1; mode=block', 'Strict-Transport-Security': 'max-age=31536000; includeSubDomains; preload', 'Content-Encoding': 'gzip'}\n"
     ]
    }
   ],
   "source": [
    "import requests # Requests are generally used to fetch the content from a particular resource URL\n",
    "import pandas as pd\n",
    "import numpy as np\n",
    "resp = requests.get('https://data.covid19.go.id/public/api/update.json')\n",
    "\n",
    "# read respone\n",
    "print(resp)\n",
    "print(resp.headers)"
   ]
  },
  {
   "cell_type": "markdown",
   "metadata": {},
   "source": [
    "Read content"
   ]
  },
  {
   "cell_type": "code",
   "execution_count": 13,
   "metadata": {},
   "outputs": [
    {
     "name": "stdout",
     "output_type": "stream",
     "text": [
      "<class 'dict'>\n",
      "keys read_content: dict_keys(['data', 'update']).\n"
     ]
    }
   ],
   "source": [
    "# json content URL\n",
    "read_content = resp.json()\n",
    "\n",
    "# cek data type\n",
    "print(type(read_content))\n",
    "\n",
    "# cek keys yang ada dalam read_content\n",
    "print('keys read_content: %s.' %read_content.keys())"
   ]
  },
  {
   "cell_type": "markdown",
   "metadata": {},
   "source": [
    "Explore Data Set"
   ]
  },
  {
   "cell_type": "code",
   "execution_count": 14,
   "metadata": {},
   "outputs": [
    {
     "name": "stdout",
     "output_type": "stream",
     "text": [
      "<class 'dict'>\n",
      "Komponen dataRaw: dict_keys(['penambahan', 'harian', 'total']).\n"
     ]
    }
   ],
   "source": [
    "# initialitazaion\n",
    "dataRaw_Update = read_content['update']\n",
    "print(type(dataRaw_Update))\n",
    "\n",
    "# cek keys yang ada dalam dataRaw_Update\n",
    "print('Komponen dataRaw: %s.' %dataRaw_Update.keys())"
   ]
  },
  {
   "cell_type": "code",
   "execution_count": 15,
   "metadata": {},
   "outputs": [
    {
     "name": "stdout",
     "output_type": "stream",
     "text": [
      "<class 'dict'>\n",
      "<class 'list'>\n",
      "<class 'dict'>\n"
     ]
    }
   ],
   "source": [
    "# Kasus Penambahan Covid di Indonesia\n",
    "dataRaw_Penambahan =  dataRaw_Update['penambahan']\n",
    "print(type(dataRaw_Penambahan))\n",
    "\n",
    "# Kasus Harian Covid di Indonesia\n",
    "dataRaw_Harian =  dataRaw_Update['harian']\n",
    "print(type(dataRaw_Harian))\n",
    "\n",
    "# Kasus Total Covid/Hari di Indonesia\n",
    "dataRaw_Total = dataRaw_Update['total']\n",
    "print(type(dataRaw_Total))"
   ]
  },
  {
   "cell_type": "code",
   "execution_count": 16,
   "metadata": {},
   "outputs": [
    {
     "name": "stdout",
     "output_type": "stream",
     "text": [
      "Stored 'dataRaw_Harian' (list)\n"
     ]
    }
   ],
   "source": [
    "%store dataRaw_Harian"
   ]
  },
  {
   "cell_type": "code",
   "execution_count": null,
   "metadata": {},
   "outputs": [],
   "source": []
  }
 ],
 "metadata": {
  "interpreter": {
   "hash": "b5843a13e7131a14c3c0e364f0390d6592a995e3082c3f83420ac4385eeb2370"
  },
  "kernelspec": {
   "display_name": "Python 3.9.7 64-bit",
   "language": "python",
   "name": "python3"
  },
  "language_info": {
   "codemirror_mode": {
    "name": "ipython",
    "version": 3
   },
   "file_extension": ".py",
   "mimetype": "text/x-python",
   "name": "python",
   "nbconvert_exporter": "python",
   "pygments_lexer": "ipython3",
   "version": "3.9.7"
  },
  "orig_nbformat": 4
 },
 "nbformat": 4,
 "nbformat_minor": 2
}
