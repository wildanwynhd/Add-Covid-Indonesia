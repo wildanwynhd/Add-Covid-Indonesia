{
 "cells": [
  {
   "cell_type": "markdown",
   "metadata": {},
   "source": [
    "#### Data Preparation"
   ]
  },
  {
   "cell_type": "markdown",
   "metadata": {},
   "source": [
    "Access data from another file"
   ]
  },
  {
   "cell_type": "code",
   "execution_count": 126,
   "metadata": {},
   "outputs": [
    {
     "data": {
      "text/plain": [
       "list"
      ]
     },
     "execution_count": 126,
     "metadata": {},
     "output_type": "execute_result"
    }
   ],
   "source": [
    "%store -r dataRaw_Harian\n",
    "\n",
    "data_raw = dataRaw_Harian\n",
    "type(data_raw)"
   ]
  },
  {
   "cell_type": "code",
   "execution_count": 127,
   "metadata": {},
   "outputs": [],
   "source": [
    "from dateutil.parser import parse \n",
    "import pandas as pd\n",
    "import numpy as py\n",
    "import datetime as dt"
   ]
  },
  {
   "cell_type": "code",
   "execution_count": 128,
   "metadata": {},
   "outputs": [
    {
     "data": {
      "text/html": [
       "<div>\n",
       "<style scoped>\n",
       "    .dataframe tbody tr th:only-of-type {\n",
       "        vertical-align: middle;\n",
       "    }\n",
       "\n",
       "    .dataframe tbody tr th {\n",
       "        vertical-align: top;\n",
       "    }\n",
       "\n",
       "    .dataframe thead th {\n",
       "        text-align: right;\n",
       "    }\n",
       "</style>\n",
       "<table border=\"1\" class=\"dataframe\">\n",
       "  <thead>\n",
       "    <tr style=\"text-align: right;\">\n",
       "      <th></th>\n",
       "      <th>key_as_string</th>\n",
       "      <th>key</th>\n",
       "      <th>doc_count</th>\n",
       "      <th>jumlah_meninggal.value</th>\n",
       "      <th>jumlah_sembuh.value</th>\n",
       "      <th>jumlah_positif.value</th>\n",
       "      <th>jumlah_dirawat.value</th>\n",
       "      <th>jumlah_positif_kum.value</th>\n",
       "      <th>jumlah_sembuh_kum.value</th>\n",
       "      <th>jumlah_meninggal_kum.value</th>\n",
       "      <th>jumlah_dirawat_kum.value</th>\n",
       "    </tr>\n",
       "  </thead>\n",
       "  <tbody>\n",
       "    <tr>\n",
       "      <th>0</th>\n",
       "      <td>2020-03-02T00:00:00.000Z</td>\n",
       "      <td>1583107200000</td>\n",
       "      <td>1</td>\n",
       "      <td>0</td>\n",
       "      <td>0</td>\n",
       "      <td>2</td>\n",
       "      <td>2</td>\n",
       "      <td>2</td>\n",
       "      <td>0</td>\n",
       "      <td>0</td>\n",
       "      <td>2</td>\n",
       "    </tr>\n",
       "    <tr>\n",
       "      <th>1</th>\n",
       "      <td>2020-03-03T00:00:00.000Z</td>\n",
       "      <td>1583193600000</td>\n",
       "      <td>1</td>\n",
       "      <td>0</td>\n",
       "      <td>0</td>\n",
       "      <td>0</td>\n",
       "      <td>0</td>\n",
       "      <td>2</td>\n",
       "      <td>0</td>\n",
       "      <td>0</td>\n",
       "      <td>2</td>\n",
       "    </tr>\n",
       "    <tr>\n",
       "      <th>2</th>\n",
       "      <td>2020-03-04T00:00:00.000Z</td>\n",
       "      <td>1583280000000</td>\n",
       "      <td>1</td>\n",
       "      <td>0</td>\n",
       "      <td>0</td>\n",
       "      <td>0</td>\n",
       "      <td>0</td>\n",
       "      <td>2</td>\n",
       "      <td>0</td>\n",
       "      <td>0</td>\n",
       "      <td>2</td>\n",
       "    </tr>\n",
       "  </tbody>\n",
       "</table>\n",
       "</div>"
      ],
      "text/plain": [
       "              key_as_string            key  doc_count  jumlah_meninggal.value  \\\n",
       "0  2020-03-02T00:00:00.000Z  1583107200000          1                       0   \n",
       "1  2020-03-03T00:00:00.000Z  1583193600000          1                       0   \n",
       "2  2020-03-04T00:00:00.000Z  1583280000000          1                       0   \n",
       "\n",
       "   jumlah_sembuh.value  jumlah_positif.value  jumlah_dirawat.value  \\\n",
       "0                    0                     2                     2   \n",
       "1                    0                     0                     0   \n",
       "2                    0                     0                     0   \n",
       "\n",
       "   jumlah_positif_kum.value  jumlah_sembuh_kum.value  \\\n",
       "0                         2                        0   \n",
       "1                         2                        0   \n",
       "2                         2                        0   \n",
       "\n",
       "   jumlah_meninggal_kum.value  jumlah_dirawat_kum.value  \n",
       "0                           0                         2  \n",
       "1                           0                         2  \n",
       "2                           0                         2  "
      ]
     },
     "execution_count": 128,
     "metadata": {},
     "output_type": "execute_result"
    }
   ],
   "source": [
    "# normalize json\n",
    "data_raw_normalize = pd.json_normalize(data_raw, max_level=1)\n",
    "\n",
    "# Cek data setelah melakukan normalization\n",
    "data_raw_normalize.head(3)"
   ]
  },
  {
   "cell_type": "markdown",
   "metadata": {},
   "source": [
    "Data Cleansing and Transforming"
   ]
  },
  {
   "cell_type": "code",
   "execution_count": 129,
   "metadata": {},
   "outputs": [
    {
     "data": {
      "text/plain": [
       "key_as_string                 object\n",
       "key                            int64\n",
       "doc_count                      int64\n",
       "jumlah_meninggal.value         int64\n",
       "jumlah_sembuh.value            int64\n",
       "jumlah_positif.value           int64\n",
       "jumlah_dirawat.value           int64\n",
       "jumlah_positif_kum.value       int64\n",
       "jumlah_sembuh_kum.value        int64\n",
       "jumlah_meninggal_kum.value     int64\n",
       "jumlah_dirawat_kum.value       int64\n",
       "dtype: object"
      ]
     },
     "execution_count": 129,
     "metadata": {},
     "output_type": "execute_result"
    }
   ],
   "source": [
    "# Cek data types sebelum melakukan convert\n",
    "data_raw_normalize.dtypes"
   ]
  },
  {
   "cell_type": "code",
   "execution_count": 130,
   "metadata": {},
   "outputs": [],
   "source": [
    "# Convert data types 'key_as_string' to datetime and normalize the data\n",
    "data_raw_normalize['key_as_string'] = pd.to_datetime(data_raw_normalize['key_as_string']).dt.date\n",
    "data_raw_normalize['key_as_string'] = pd.to_datetime(data_raw_normalize['key_as_string']).dt.normalize()"
   ]
  },
  {
   "cell_type": "code",
   "execution_count": 131,
   "metadata": {},
   "outputs": [
    {
     "data": {
      "text/plain": [
       "key_as_string                 datetime64[ns]\n",
       "key                                    int64\n",
       "doc_count                              int64\n",
       "jumlah_meninggal.value                 int64\n",
       "jumlah_sembuh.value                    int64\n",
       "jumlah_positif.value                   int64\n",
       "jumlah_dirawat.value                   int64\n",
       "jumlah_positif_kum.value               int64\n",
       "jumlah_sembuh_kum.value                int64\n",
       "jumlah_meninggal_kum.value             int64\n",
       "jumlah_dirawat_kum.value               int64\n",
       "dtype: object"
      ]
     },
     "execution_count": 131,
     "metadata": {},
     "output_type": "execute_result"
    }
   ],
   "source": [
    "# data types setelah convert\n",
    "data_raw_normalize.dtypes"
   ]
  },
  {
   "cell_type": "code",
   "execution_count": 132,
   "metadata": {},
   "outputs": [
    {
     "data": {
      "text/html": [
       "<div>\n",
       "<style scoped>\n",
       "    .dataframe tbody tr th:only-of-type {\n",
       "        vertical-align: middle;\n",
       "    }\n",
       "\n",
       "    .dataframe tbody tr th {\n",
       "        vertical-align: top;\n",
       "    }\n",
       "\n",
       "    .dataframe thead th {\n",
       "        text-align: right;\n",
       "    }\n",
       "</style>\n",
       "<table border=\"1\" class=\"dataframe\">\n",
       "  <thead>\n",
       "    <tr style=\"text-align: right;\">\n",
       "      <th></th>\n",
       "      <th>key_as_string</th>\n",
       "      <th>key</th>\n",
       "      <th>doc_count</th>\n",
       "      <th>jumlah_meninggal.value</th>\n",
       "      <th>jumlah_sembuh.value</th>\n",
       "      <th>jumlah_positif.value</th>\n",
       "      <th>jumlah_dirawat.value</th>\n",
       "      <th>jumlah_positif_kum.value</th>\n",
       "      <th>jumlah_sembuh_kum.value</th>\n",
       "      <th>jumlah_meninggal_kum.value</th>\n",
       "      <th>jumlah_dirawat_kum.value</th>\n",
       "    </tr>\n",
       "  </thead>\n",
       "  <tbody>\n",
       "    <tr>\n",
       "      <th>0</th>\n",
       "      <td>2020-03-02</td>\n",
       "      <td>1583107200000</td>\n",
       "      <td>1</td>\n",
       "      <td>0</td>\n",
       "      <td>0</td>\n",
       "      <td>2</td>\n",
       "      <td>2</td>\n",
       "      <td>2</td>\n",
       "      <td>0</td>\n",
       "      <td>0</td>\n",
       "      <td>2</td>\n",
       "    </tr>\n",
       "    <tr>\n",
       "      <th>1</th>\n",
       "      <td>2020-03-03</td>\n",
       "      <td>1583193600000</td>\n",
       "      <td>1</td>\n",
       "      <td>0</td>\n",
       "      <td>0</td>\n",
       "      <td>0</td>\n",
       "      <td>0</td>\n",
       "      <td>2</td>\n",
       "      <td>0</td>\n",
       "      <td>0</td>\n",
       "      <td>2</td>\n",
       "    </tr>\n",
       "    <tr>\n",
       "      <th>2</th>\n",
       "      <td>2020-03-04</td>\n",
       "      <td>1583280000000</td>\n",
       "      <td>1</td>\n",
       "      <td>0</td>\n",
       "      <td>0</td>\n",
       "      <td>0</td>\n",
       "      <td>0</td>\n",
       "      <td>2</td>\n",
       "      <td>0</td>\n",
       "      <td>0</td>\n",
       "      <td>2</td>\n",
       "    </tr>\n",
       "  </tbody>\n",
       "</table>\n",
       "</div>"
      ],
      "text/plain": [
       "  key_as_string            key  doc_count  jumlah_meninggal.value  \\\n",
       "0    2020-03-02  1583107200000          1                       0   \n",
       "1    2020-03-03  1583193600000          1                       0   \n",
       "2    2020-03-04  1583280000000          1                       0   \n",
       "\n",
       "   jumlah_sembuh.value  jumlah_positif.value  jumlah_dirawat.value  \\\n",
       "0                    0                     2                     2   \n",
       "1                    0                     0                     0   \n",
       "2                    0                     0                     0   \n",
       "\n",
       "   jumlah_positif_kum.value  jumlah_sembuh_kum.value  \\\n",
       "0                         2                        0   \n",
       "1                         2                        0   \n",
       "2                         2                        0   \n",
       "\n",
       "   jumlah_meninggal_kum.value  jumlah_dirawat_kum.value  \n",
       "0                           0                         2  \n",
       "1                           0                         2  \n",
       "2                           0                         2  "
      ]
     },
     "execution_count": 132,
     "metadata": {},
     "output_type": "execute_result"
    }
   ],
   "source": [
    "# Cek data\n",
    "data_raw_normalize.head(3)"
   ]
  },
  {
   "cell_type": "code",
   "execution_count": 133,
   "metadata": {},
   "outputs": [
    {
     "name": "stdout",
     "output_type": "stream",
     "text": [
      "dataFrame columns:  Index(['key_as_string', 'key', 'doc_count', 'jumlah_meninggal.value',\n",
      "       'jumlah_sembuh.value', 'jumlah_positif.value', 'jumlah_dirawat.value',\n",
      "       'jumlah_positif_kum.value', 'jumlah_sembuh_kum.value',\n",
      "       'jumlah_meninggal_kum.value', 'jumlah_dirawat_kum.value'],\n",
      "      dtype='object')\n"
     ]
    }
   ],
   "source": [
    "# Cek nama columns sebelum diubah\n",
    "print('dataFrame columns: ', data_raw_normalize.columns)"
   ]
  },
  {
   "cell_type": "code",
   "execution_count": 134,
   "metadata": {},
   "outputs": [],
   "source": [
    "data_raw_normalize = data_raw_normalize.rename(columns={\"key_as_string\":\"date\"}) # key_as_string\n",
    "data_raw_normalize = data_raw_normalize.rename(columns={\"jumlah_meninggal.value\":\"kasus_meninggal\"}) # jumlah_meninggal.value\n",
    "data_raw_normalize = data_raw_normalize.rename(columns={\"jumlah_sembuh.value\":\"kasus_sembuh\"}) # jumlah_sembuh.value\n",
    "data_raw_normalize = data_raw_normalize.rename(columns={\"jumlah_positif.value\":\"kasus_positif\"}) # jumlah_positif.value\n",
    "data_raw_normalize = data_raw_normalize.rename(columns={\"jumlah_dirawat.value\":\"kasus_dirawat\"}) # jumlah_dirawat.value\n",
    "data_raw_normalize = data_raw_normalize.rename(columns={\"jumlah_positif_kum.value\":\"kumulatif_kasus_positif\"}) # jumlah_positif_kum.value\n",
    "data_raw_normalize = data_raw_normalize.rename(columns={\"jumlah_sembuh_kum.value\":\"kumulatif_kasus_sembuh\"}) # jumlah_positif.value\n",
    "data_raw_normalize = data_raw_normalize.rename(columns={\"jumlah_meninggal_kum.value\":\"kumulatif_kasus_meninggal\"}) # jumlah_positif.value\n",
    "data_raw_normalize = data_raw_normalize.rename(columns={\"jumlah_dirawat_kum.value\":\"kumulatif_kasus_dirawat\"}) # jumlah_positif.value"
   ]
  },
  {
   "cell_type": "code",
   "execution_count": 135,
   "metadata": {},
   "outputs": [
    {
     "name": "stdout",
     "output_type": "stream",
     "text": [
      "dataFrame columns:  Index(['date', 'key', 'doc_count', 'kasus_meninggal', 'kasus_sembuh',\n",
      "       'kasus_positif', 'kasus_dirawat', 'kumulatif_kasus_positif',\n",
      "       'kumulatif_kasus_sembuh', 'kumulatif_kasus_meninggal',\n",
      "       'kumulatif_kasus_dirawat'],\n",
      "      dtype='object')\n"
     ]
    }
   ],
   "source": [
    "# Setelah mengubah nama kolom\n",
    "print('dataFrame columns: ', data_raw_normalize.columns)"
   ]
  },
  {
   "cell_type": "code",
   "execution_count": 136,
   "metadata": {},
   "outputs": [],
   "source": [
    "# Selecting columns and reformat order columns\n",
    "df = data_raw_normalize[['date', 'kasus_positif', 'kasus_sembuh', 'kasus_dirawat', 'kasus_meninggal',\n",
    "        'kumulatif_kasus_positif', 'kumulatif_kasus_sembuh', 'kumulatif_kasus_dirawat', 'kumulatif_kasus_meninggal']]"
   ]
  },
  {
   "cell_type": "code",
   "execution_count": 137,
   "metadata": {},
   "outputs": [
    {
     "data": {
      "text/html": [
       "<div>\n",
       "<style scoped>\n",
       "    .dataframe tbody tr th:only-of-type {\n",
       "        vertical-align: middle;\n",
       "    }\n",
       "\n",
       "    .dataframe tbody tr th {\n",
       "        vertical-align: top;\n",
       "    }\n",
       "\n",
       "    .dataframe thead th {\n",
       "        text-align: right;\n",
       "    }\n",
       "</style>\n",
       "<table border=\"1\" class=\"dataframe\">\n",
       "  <thead>\n",
       "    <tr style=\"text-align: right;\">\n",
       "      <th></th>\n",
       "      <th>date</th>\n",
       "      <th>kasus_positif</th>\n",
       "      <th>kasus_sembuh</th>\n",
       "      <th>kasus_dirawat</th>\n",
       "      <th>kasus_meninggal</th>\n",
       "      <th>kumulatif_kasus_positif</th>\n",
       "      <th>kumulatif_kasus_sembuh</th>\n",
       "      <th>kumulatif_kasus_dirawat</th>\n",
       "      <th>kumulatif_kasus_meninggal</th>\n",
       "    </tr>\n",
       "  </thead>\n",
       "  <tbody>\n",
       "    <tr>\n",
       "      <th>0</th>\n",
       "      <td>2020-03-02</td>\n",
       "      <td>2</td>\n",
       "      <td>0</td>\n",
       "      <td>2</td>\n",
       "      <td>0</td>\n",
       "      <td>2</td>\n",
       "      <td>0</td>\n",
       "      <td>2</td>\n",
       "      <td>0</td>\n",
       "    </tr>\n",
       "    <tr>\n",
       "      <th>1</th>\n",
       "      <td>2020-03-03</td>\n",
       "      <td>0</td>\n",
       "      <td>0</td>\n",
       "      <td>0</td>\n",
       "      <td>0</td>\n",
       "      <td>2</td>\n",
       "      <td>0</td>\n",
       "      <td>2</td>\n",
       "      <td>0</td>\n",
       "    </tr>\n",
       "    <tr>\n",
       "      <th>2</th>\n",
       "      <td>2020-03-04</td>\n",
       "      <td>0</td>\n",
       "      <td>0</td>\n",
       "      <td>0</td>\n",
       "      <td>0</td>\n",
       "      <td>2</td>\n",
       "      <td>0</td>\n",
       "      <td>2</td>\n",
       "      <td>0</td>\n",
       "    </tr>\n",
       "  </tbody>\n",
       "</table>\n",
       "</div>"
      ],
      "text/plain": [
       "        date  kasus_positif  kasus_sembuh  kasus_dirawat  kasus_meninggal  \\\n",
       "0 2020-03-02              2             0              2                0   \n",
       "1 2020-03-03              0             0              0                0   \n",
       "2 2020-03-04              0             0              0                0   \n",
       "\n",
       "   kumulatif_kasus_positif  kumulatif_kasus_sembuh  kumulatif_kasus_dirawat  \\\n",
       "0                        2                       0                        2   \n",
       "1                        2                       0                        2   \n",
       "2                        2                       0                        2   \n",
       "\n",
       "   kumulatif_kasus_meninggal  \n",
       "0                          0  \n",
       "1                          0  \n",
       "2                          0  "
      ]
     },
     "execution_count": 137,
     "metadata": {},
     "output_type": "execute_result"
    }
   ],
   "source": [
    "df.head(3)"
   ]
  },
  {
   "cell_type": "code",
   "execution_count": 138,
   "metadata": {},
   "outputs": [
    {
     "name": "stdout",
     "output_type": "stream",
     "text": [
      "(747, 9)\n",
      "date                         0\n",
      "kasus_positif                0\n",
      "kasus_sembuh                 0\n",
      "kasus_dirawat                0\n",
      "kasus_meninggal              0\n",
      "kumulatif_kasus_positif      0\n",
      "kumulatif_kasus_sembuh       0\n",
      "kumulatif_kasus_dirawat      0\n",
      "kumulatif_kasus_meninggal    0\n",
      "dtype: int64\n"
     ]
    }
   ],
   "source": [
    "# Info jumlah data\n",
    "print(df.shape)\n",
    "\n",
    "# Data Info & Nullabel\n",
    "print(df.isnull().sum())"
   ]
  },
  {
   "cell_type": "code",
   "execution_count": 139,
   "metadata": {},
   "outputs": [],
   "source": [
    "# Set date sebagai index\n",
    "df = df.set_index('date')"
   ]
  },
  {
   "cell_type": "code",
   "execution_count": 140,
   "metadata": {},
   "outputs": [
    {
     "data": {
      "text/html": [
       "<div>\n",
       "<style scoped>\n",
       "    .dataframe tbody tr th:only-of-type {\n",
       "        vertical-align: middle;\n",
       "    }\n",
       "\n",
       "    .dataframe tbody tr th {\n",
       "        vertical-align: top;\n",
       "    }\n",
       "\n",
       "    .dataframe thead th {\n",
       "        text-align: right;\n",
       "    }\n",
       "</style>\n",
       "<table border=\"1\" class=\"dataframe\">\n",
       "  <thead>\n",
       "    <tr style=\"text-align: right;\">\n",
       "      <th></th>\n",
       "      <th>kasus_positif</th>\n",
       "      <th>kasus_sembuh</th>\n",
       "      <th>kasus_dirawat</th>\n",
       "      <th>kasus_meninggal</th>\n",
       "      <th>kumulatif_kasus_positif</th>\n",
       "      <th>kumulatif_kasus_sembuh</th>\n",
       "      <th>kumulatif_kasus_dirawat</th>\n",
       "      <th>kumulatif_kasus_meninggal</th>\n",
       "    </tr>\n",
       "    <tr>\n",
       "      <th>date</th>\n",
       "      <th></th>\n",
       "      <th></th>\n",
       "      <th></th>\n",
       "      <th></th>\n",
       "      <th></th>\n",
       "      <th></th>\n",
       "      <th></th>\n",
       "      <th></th>\n",
       "    </tr>\n",
       "  </thead>\n",
       "  <tbody>\n",
       "    <tr>\n",
       "      <th>2020-03-02</th>\n",
       "      <td>2</td>\n",
       "      <td>0</td>\n",
       "      <td>2</td>\n",
       "      <td>0</td>\n",
       "      <td>2</td>\n",
       "      <td>0</td>\n",
       "      <td>2</td>\n",
       "      <td>0</td>\n",
       "    </tr>\n",
       "    <tr>\n",
       "      <th>2020-03-03</th>\n",
       "      <td>0</td>\n",
       "      <td>0</td>\n",
       "      <td>0</td>\n",
       "      <td>0</td>\n",
       "      <td>2</td>\n",
       "      <td>0</td>\n",
       "      <td>2</td>\n",
       "      <td>0</td>\n",
       "    </tr>\n",
       "    <tr>\n",
       "      <th>2020-03-04</th>\n",
       "      <td>0</td>\n",
       "      <td>0</td>\n",
       "      <td>0</td>\n",
       "      <td>0</td>\n",
       "      <td>2</td>\n",
       "      <td>0</td>\n",
       "      <td>2</td>\n",
       "      <td>0</td>\n",
       "    </tr>\n",
       "  </tbody>\n",
       "</table>\n",
       "</div>"
      ],
      "text/plain": [
       "            kasus_positif  kasus_sembuh  kasus_dirawat  kasus_meninggal  \\\n",
       "date                                                                      \n",
       "2020-03-02              2             0              2                0   \n",
       "2020-03-03              0             0              0                0   \n",
       "2020-03-04              0             0              0                0   \n",
       "\n",
       "            kumulatif_kasus_positif  kumulatif_kasus_sembuh  \\\n",
       "date                                                          \n",
       "2020-03-02                        2                       0   \n",
       "2020-03-03                        2                       0   \n",
       "2020-03-04                        2                       0   \n",
       "\n",
       "            kumulatif_kasus_dirawat  kumulatif_kasus_meninggal  \n",
       "date                                                            \n",
       "2020-03-02                        2                          0  \n",
       "2020-03-03                        2                          0  \n",
       "2020-03-04                        2                          0  "
      ]
     },
     "execution_count": 140,
     "metadata": {},
     "output_type": "execute_result"
    }
   ],
   "source": [
    "df.head(3)"
   ]
  },
  {
   "cell_type": "code",
   "execution_count": 141,
   "metadata": {},
   "outputs": [],
   "source": [
    "df_month = df.resample('M').sum()\n",
    "df_week = df.resample('2W').sum()"
   ]
  },
  {
   "cell_type": "code",
   "execution_count": 142,
   "metadata": {},
   "outputs": [
    {
     "data": {
      "text/html": [
       "<div>\n",
       "<style scoped>\n",
       "    .dataframe tbody tr th:only-of-type {\n",
       "        vertical-align: middle;\n",
       "    }\n",
       "\n",
       "    .dataframe tbody tr th {\n",
       "        vertical-align: top;\n",
       "    }\n",
       "\n",
       "    .dataframe thead th {\n",
       "        text-align: right;\n",
       "    }\n",
       "</style>\n",
       "<table border=\"1\" class=\"dataframe\">\n",
       "  <thead>\n",
       "    <tr style=\"text-align: right;\">\n",
       "      <th></th>\n",
       "      <th>kasus_positif</th>\n",
       "      <th>kasus_sembuh</th>\n",
       "      <th>kasus_dirawat</th>\n",
       "      <th>kasus_meninggal</th>\n",
       "      <th>kumulatif_kasus_positif</th>\n",
       "      <th>kumulatif_kasus_sembuh</th>\n",
       "      <th>kumulatif_kasus_dirawat</th>\n",
       "      <th>kumulatif_kasus_meninggal</th>\n",
       "    </tr>\n",
       "    <tr>\n",
       "      <th>date</th>\n",
       "      <th></th>\n",
       "      <th></th>\n",
       "      <th></th>\n",
       "      <th></th>\n",
       "      <th></th>\n",
       "      <th></th>\n",
       "      <th></th>\n",
       "      <th></th>\n",
       "    </tr>\n",
       "  </thead>\n",
       "  <tbody>\n",
       "    <tr>\n",
       "      <th>2020-03-31</th>\n",
       "      <td>1528</td>\n",
       "      <td>81</td>\n",
       "      <td>1311</td>\n",
       "      <td>136</td>\n",
       "      <td>11968</td>\n",
       "      <td>584</td>\n",
       "      <td>10395</td>\n",
       "      <td>989</td>\n",
       "    </tr>\n",
       "    <tr>\n",
       "      <th>2020-04-30</th>\n",
       "      <td>8590</td>\n",
       "      <td>1441</td>\n",
       "      <td>6493</td>\n",
       "      <td>656</td>\n",
       "      <td>164969</td>\n",
       "      <td>18115</td>\n",
       "      <td>132787</td>\n",
       "      <td>14067</td>\n",
       "    </tr>\n",
       "    <tr>\n",
       "      <th>2020-05-31</th>\n",
       "      <td>16355</td>\n",
       "      <td>5786</td>\n",
       "      <td>9748</td>\n",
       "      <td>821</td>\n",
       "      <td>546175</td>\n",
       "      <td>124915</td>\n",
       "      <td>385501</td>\n",
       "      <td>35759</td>\n",
       "    </tr>\n",
       "  </tbody>\n",
       "</table>\n",
       "</div>"
      ],
      "text/plain": [
       "            kasus_positif  kasus_sembuh  kasus_dirawat  kasus_meninggal  \\\n",
       "date                                                                      \n",
       "2020-03-31           1528            81           1311              136   \n",
       "2020-04-30           8590          1441           6493              656   \n",
       "2020-05-31          16355          5786           9748              821   \n",
       "\n",
       "            kumulatif_kasus_positif  kumulatif_kasus_sembuh  \\\n",
       "date                                                          \n",
       "2020-03-31                    11968                     584   \n",
       "2020-04-30                   164969                   18115   \n",
       "2020-05-31                   546175                  124915   \n",
       "\n",
       "            kumulatif_kasus_dirawat  kumulatif_kasus_meninggal  \n",
       "date                                                            \n",
       "2020-03-31                    10395                        989  \n",
       "2020-04-30                   132787                      14067  \n",
       "2020-05-31                   385501                      35759  "
      ]
     },
     "execution_count": 142,
     "metadata": {},
     "output_type": "execute_result"
    }
   ],
   "source": [
    "df_month.head(3)"
   ]
  },
  {
   "cell_type": "code",
   "execution_count": 143,
   "metadata": {},
   "outputs": [
    {
     "data": {
      "text/html": [
       "<div>\n",
       "<style scoped>\n",
       "    .dataframe tbody tr th:only-of-type {\n",
       "        vertical-align: middle;\n",
       "    }\n",
       "\n",
       "    .dataframe tbody tr th {\n",
       "        vertical-align: top;\n",
       "    }\n",
       "\n",
       "    .dataframe thead th {\n",
       "        text-align: right;\n",
       "    }\n",
       "</style>\n",
       "<table border=\"1\" class=\"dataframe\">\n",
       "  <thead>\n",
       "    <tr style=\"text-align: right;\">\n",
       "      <th></th>\n",
       "      <th>kasus_positif</th>\n",
       "      <th>kasus_sembuh</th>\n",
       "      <th>kasus_dirawat</th>\n",
       "      <th>kasus_meninggal</th>\n",
       "      <th>kumulatif_kasus_positif</th>\n",
       "      <th>kumulatif_kasus_sembuh</th>\n",
       "      <th>kumulatif_kasus_dirawat</th>\n",
       "      <th>kumulatif_kasus_meninggal</th>\n",
       "    </tr>\n",
       "    <tr>\n",
       "      <th>date</th>\n",
       "      <th></th>\n",
       "      <th></th>\n",
       "      <th></th>\n",
       "      <th></th>\n",
       "      <th></th>\n",
       "      <th></th>\n",
       "      <th></th>\n",
       "      <th></th>\n",
       "    </tr>\n",
       "  </thead>\n",
       "  <tbody>\n",
       "    <tr>\n",
       "      <th>2020-03-08</th>\n",
       "      <td>6</td>\n",
       "      <td>0</td>\n",
       "      <td>6</td>\n",
       "      <td>0</td>\n",
       "      <td>22</td>\n",
       "      <td>0</td>\n",
       "      <td>22</td>\n",
       "      <td>0</td>\n",
       "    </tr>\n",
       "    <tr>\n",
       "      <th>2020-03-22</th>\n",
       "      <td>508</td>\n",
       "      <td>29</td>\n",
       "      <td>431</td>\n",
       "      <td>48</td>\n",
       "      <td>2571</td>\n",
       "      <td>133</td>\n",
       "      <td>2250</td>\n",
       "      <td>188</td>\n",
       "    </tr>\n",
       "    <tr>\n",
       "      <th>2020-04-05</th>\n",
       "      <td>1759</td>\n",
       "      <td>135</td>\n",
       "      <td>1474</td>\n",
       "      <td>150</td>\n",
       "      <td>19193</td>\n",
       "      <td>1114</td>\n",
       "      <td>16381</td>\n",
       "      <td>1698</td>\n",
       "    </tr>\n",
       "  </tbody>\n",
       "</table>\n",
       "</div>"
      ],
      "text/plain": [
       "            kasus_positif  kasus_sembuh  kasus_dirawat  kasus_meninggal  \\\n",
       "date                                                                      \n",
       "2020-03-08              6             0              6                0   \n",
       "2020-03-22            508            29            431               48   \n",
       "2020-04-05           1759           135           1474              150   \n",
       "\n",
       "            kumulatif_kasus_positif  kumulatif_kasus_sembuh  \\\n",
       "date                                                          \n",
       "2020-03-08                       22                       0   \n",
       "2020-03-22                     2571                     133   \n",
       "2020-04-05                    19193                    1114   \n",
       "\n",
       "            kumulatif_kasus_dirawat  kumulatif_kasus_meninggal  \n",
       "date                                                            \n",
       "2020-03-08                       22                          0  \n",
       "2020-03-22                     2250                        188  \n",
       "2020-04-05                    16381                       1698  "
      ]
     },
     "execution_count": 143,
     "metadata": {},
     "output_type": "execute_result"
    }
   ],
   "source": [
    "df_week.head(3)"
   ]
  },
  {
   "cell_type": "code",
   "execution_count": 145,
   "metadata": {},
   "outputs": [
    {
     "name": "stdout",
     "output_type": "stream",
     "text": [
      "Stored 'df' (DataFrame)\n",
      "Stored 'df_month' (DataFrame)\n",
      "Stored 'df_week' (DataFrame)\n"
     ]
    }
   ],
   "source": [
    "%store df\n",
    "%store df_month\n",
    "%store df_week"
   ]
  },
  {
   "cell_type": "code",
   "execution_count": null,
   "metadata": {},
   "outputs": [],
   "source": []
  }
 ],
 "metadata": {
  "interpreter": {
   "hash": "b5843a13e7131a14c3c0e364f0390d6592a995e3082c3f83420ac4385eeb2370"
  },
  "kernelspec": {
   "display_name": "Python 3.9.7 64-bit",
   "language": "python",
   "name": "python3"
  },
  "language_info": {
   "codemirror_mode": {
    "name": "ipython",
    "version": 3
   },
   "file_extension": ".py",
   "mimetype": "text/x-python",
   "name": "python",
   "nbconvert_exporter": "python",
   "pygments_lexer": "ipython3",
   "version": "3.9.7"
  },
  "orig_nbformat": 4
 },
 "nbformat": 4,
 "nbformat_minor": 2
}
