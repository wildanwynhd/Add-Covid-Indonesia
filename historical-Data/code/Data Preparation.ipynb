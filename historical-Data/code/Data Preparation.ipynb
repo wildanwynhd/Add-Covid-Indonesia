{
 "cells": [
  {
   "cell_type": "markdown",
   "metadata": {},
   "source": [
    "#### Data Preparation"
   ]
  },
  {
   "cell_type": "markdown",
   "metadata": {},
   "source": [
    "Access data from another file"
   ]
  },
  {
   "cell_type": "code",
   "execution_count": 53,
   "metadata": {},
   "outputs": [
    {
     "data": {
      "text/plain": [
       "list"
      ]
     },
     "execution_count": 53,
     "metadata": {},
     "output_type": "execute_result"
    }
   ],
   "source": [
    "%store -r dataRaw_Harian\n",
    "\n",
    "data_raw = dataRaw_Harian\n",
    "type(data_raw)"
   ]
  },
  {
   "cell_type": "code",
   "execution_count": 54,
   "metadata": {},
   "outputs": [],
   "source": [
    "from dateutil.parser import parse \n",
    "import pandas as pd\n",
    "import numpy as py\n",
    "import datetime as dt"
   ]
  },
  {
   "cell_type": "code",
   "execution_count": 55,
   "metadata": {},
   "outputs": [
    {
     "data": {
      "text/html": [
       "<div>\n",
       "<style scoped>\n",
       "    .dataframe tbody tr th:only-of-type {\n",
       "        vertical-align: middle;\n",
       "    }\n",
       "\n",
       "    .dataframe tbody tr th {\n",
       "        vertical-align: top;\n",
       "    }\n",
       "\n",
       "    .dataframe thead th {\n",
       "        text-align: right;\n",
       "    }\n",
       "</style>\n",
       "<table border=\"1\" class=\"dataframe\">\n",
       "  <thead>\n",
       "    <tr style=\"text-align: right;\">\n",
       "      <th></th>\n",
       "      <th>key_as_string</th>\n",
       "      <th>key</th>\n",
       "      <th>doc_count</th>\n",
       "      <th>jumlah_meninggal.value</th>\n",
       "      <th>jumlah_sembuh.value</th>\n",
       "      <th>jumlah_positif.value</th>\n",
       "      <th>jumlah_dirawat.value</th>\n",
       "      <th>jumlah_positif_kum.value</th>\n",
       "      <th>jumlah_sembuh_kum.value</th>\n",
       "      <th>jumlah_meninggal_kum.value</th>\n",
       "      <th>jumlah_dirawat_kum.value</th>\n",
       "    </tr>\n",
       "  </thead>\n",
       "  <tbody>\n",
       "    <tr>\n",
       "      <th>0</th>\n",
       "      <td>2020-03-02T00:00:00.000Z</td>\n",
       "      <td>1583107200000</td>\n",
       "      <td>1</td>\n",
       "      <td>0</td>\n",
       "      <td>0</td>\n",
       "      <td>2</td>\n",
       "      <td>2</td>\n",
       "      <td>2</td>\n",
       "      <td>0</td>\n",
       "      <td>0</td>\n",
       "      <td>2</td>\n",
       "    </tr>\n",
       "    <tr>\n",
       "      <th>1</th>\n",
       "      <td>2020-03-03T00:00:00.000Z</td>\n",
       "      <td>1583193600000</td>\n",
       "      <td>1</td>\n",
       "      <td>0</td>\n",
       "      <td>0</td>\n",
       "      <td>0</td>\n",
       "      <td>0</td>\n",
       "      <td>2</td>\n",
       "      <td>0</td>\n",
       "      <td>0</td>\n",
       "      <td>2</td>\n",
       "    </tr>\n",
       "    <tr>\n",
       "      <th>2</th>\n",
       "      <td>2020-03-04T00:00:00.000Z</td>\n",
       "      <td>1583280000000</td>\n",
       "      <td>1</td>\n",
       "      <td>0</td>\n",
       "      <td>0</td>\n",
       "      <td>0</td>\n",
       "      <td>0</td>\n",
       "      <td>2</td>\n",
       "      <td>0</td>\n",
       "      <td>0</td>\n",
       "      <td>2</td>\n",
       "    </tr>\n",
       "  </tbody>\n",
       "</table>\n",
       "</div>"
      ],
      "text/plain": [
       "              key_as_string            key  doc_count  jumlah_meninggal.value  \\\n",
       "0  2020-03-02T00:00:00.000Z  1583107200000          1                       0   \n",
       "1  2020-03-03T00:00:00.000Z  1583193600000          1                       0   \n",
       "2  2020-03-04T00:00:00.000Z  1583280000000          1                       0   \n",
       "\n",
       "   jumlah_sembuh.value  jumlah_positif.value  jumlah_dirawat.value  \\\n",
       "0                    0                     2                     2   \n",
       "1                    0                     0                     0   \n",
       "2                    0                     0                     0   \n",
       "\n",
       "   jumlah_positif_kum.value  jumlah_sembuh_kum.value  \\\n",
       "0                         2                        0   \n",
       "1                         2                        0   \n",
       "2                         2                        0   \n",
       "\n",
       "   jumlah_meninggal_kum.value  jumlah_dirawat_kum.value  \n",
       "0                           0                         2  \n",
       "1                           0                         2  \n",
       "2                           0                         2  "
      ]
     },
     "execution_count": 55,
     "metadata": {},
     "output_type": "execute_result"
    }
   ],
   "source": [
    "# normalize json\n",
    "data_raw_normalize = pd.json_normalize(data_raw, max_level=1)\n",
    "\n",
    "# Cek data setelah melakukan normalization\n",
    "data_raw_normalize.head(3)"
   ]
  },
  {
   "cell_type": "markdown",
   "metadata": {},
   "source": [
    "Data Cleansing and Transforming"
   ]
  },
  {
   "cell_type": "code",
   "execution_count": 56,
   "metadata": {},
   "outputs": [
    {
     "data": {
      "text/plain": [
       "key_as_string                 object\n",
       "key                            int64\n",
       "doc_count                      int64\n",
       "jumlah_meninggal.value         int64\n",
       "jumlah_sembuh.value            int64\n",
       "jumlah_positif.value           int64\n",
       "jumlah_dirawat.value           int64\n",
       "jumlah_positif_kum.value       int64\n",
       "jumlah_sembuh_kum.value        int64\n",
       "jumlah_meninggal_kum.value     int64\n",
       "jumlah_dirawat_kum.value       int64\n",
       "dtype: object"
      ]
     },
     "execution_count": 56,
     "metadata": {},
     "output_type": "execute_result"
    }
   ],
   "source": [
    "# Cek data types sebelum melakukan convert\n",
    "data_raw_normalize.dtypes"
   ]
  },
  {
   "cell_type": "code",
   "execution_count": 57,
   "metadata": {},
   "outputs": [],
   "source": [
    "# Convert data types 'key_as_string' to datetime and normalize the data\n",
    "data_raw_normalize['key_as_string'] = pd.to_datetime(data_raw_normalize['key_as_string']).dt.date\n",
    "data_raw_normalize['key_as_string'] = pd.to_datetime(data_raw_normalize['key_as_string']).dt.normalize()"
   ]
  },
  {
   "cell_type": "code",
   "execution_count": 58,
   "metadata": {},
   "outputs": [
    {
     "data": {
      "text/plain": [
       "key_as_string                 datetime64[ns]\n",
       "key                                    int64\n",
       "doc_count                              int64\n",
       "jumlah_meninggal.value                 int64\n",
       "jumlah_sembuh.value                    int64\n",
       "jumlah_positif.value                   int64\n",
       "jumlah_dirawat.value                   int64\n",
       "jumlah_positif_kum.value               int64\n",
       "jumlah_sembuh_kum.value                int64\n",
       "jumlah_meninggal_kum.value             int64\n",
       "jumlah_dirawat_kum.value               int64\n",
       "dtype: object"
      ]
     },
     "execution_count": 58,
     "metadata": {},
     "output_type": "execute_result"
    }
   ],
   "source": [
    "# data types setelah convert\n",
    "data_raw_normalize.dtypes"
   ]
  },
  {
   "cell_type": "code",
   "execution_count": 59,
   "metadata": {},
   "outputs": [
    {
     "data": {
      "text/html": [
       "<div>\n",
       "<style scoped>\n",
       "    .dataframe tbody tr th:only-of-type {\n",
       "        vertical-align: middle;\n",
       "    }\n",
       "\n",
       "    .dataframe tbody tr th {\n",
       "        vertical-align: top;\n",
       "    }\n",
       "\n",
       "    .dataframe thead th {\n",
       "        text-align: right;\n",
       "    }\n",
       "</style>\n",
       "<table border=\"1\" class=\"dataframe\">\n",
       "  <thead>\n",
       "    <tr style=\"text-align: right;\">\n",
       "      <th></th>\n",
       "      <th>key_as_string</th>\n",
       "      <th>key</th>\n",
       "      <th>doc_count</th>\n",
       "      <th>jumlah_meninggal.value</th>\n",
       "      <th>jumlah_sembuh.value</th>\n",
       "      <th>jumlah_positif.value</th>\n",
       "      <th>jumlah_dirawat.value</th>\n",
       "      <th>jumlah_positif_kum.value</th>\n",
       "      <th>jumlah_sembuh_kum.value</th>\n",
       "      <th>jumlah_meninggal_kum.value</th>\n",
       "      <th>jumlah_dirawat_kum.value</th>\n",
       "    </tr>\n",
       "  </thead>\n",
       "  <tbody>\n",
       "    <tr>\n",
       "      <th>0</th>\n",
       "      <td>2020-03-02</td>\n",
       "      <td>1583107200000</td>\n",
       "      <td>1</td>\n",
       "      <td>0</td>\n",
       "      <td>0</td>\n",
       "      <td>2</td>\n",
       "      <td>2</td>\n",
       "      <td>2</td>\n",
       "      <td>0</td>\n",
       "      <td>0</td>\n",
       "      <td>2</td>\n",
       "    </tr>\n",
       "    <tr>\n",
       "      <th>1</th>\n",
       "      <td>2020-03-03</td>\n",
       "      <td>1583193600000</td>\n",
       "      <td>1</td>\n",
       "      <td>0</td>\n",
       "      <td>0</td>\n",
       "      <td>0</td>\n",
       "      <td>0</td>\n",
       "      <td>2</td>\n",
       "      <td>0</td>\n",
       "      <td>0</td>\n",
       "      <td>2</td>\n",
       "    </tr>\n",
       "    <tr>\n",
       "      <th>2</th>\n",
       "      <td>2020-03-04</td>\n",
       "      <td>1583280000000</td>\n",
       "      <td>1</td>\n",
       "      <td>0</td>\n",
       "      <td>0</td>\n",
       "      <td>0</td>\n",
       "      <td>0</td>\n",
       "      <td>2</td>\n",
       "      <td>0</td>\n",
       "      <td>0</td>\n",
       "      <td>2</td>\n",
       "    </tr>\n",
       "  </tbody>\n",
       "</table>\n",
       "</div>"
      ],
      "text/plain": [
       "  key_as_string            key  doc_count  jumlah_meninggal.value  \\\n",
       "0    2020-03-02  1583107200000          1                       0   \n",
       "1    2020-03-03  1583193600000          1                       0   \n",
       "2    2020-03-04  1583280000000          1                       0   \n",
       "\n",
       "   jumlah_sembuh.value  jumlah_positif.value  jumlah_dirawat.value  \\\n",
       "0                    0                     2                     2   \n",
       "1                    0                     0                     0   \n",
       "2                    0                     0                     0   \n",
       "\n",
       "   jumlah_positif_kum.value  jumlah_sembuh_kum.value  \\\n",
       "0                         2                        0   \n",
       "1                         2                        0   \n",
       "2                         2                        0   \n",
       "\n",
       "   jumlah_meninggal_kum.value  jumlah_dirawat_kum.value  \n",
       "0                           0                         2  \n",
       "1                           0                         2  \n",
       "2                           0                         2  "
      ]
     },
     "execution_count": 59,
     "metadata": {},
     "output_type": "execute_result"
    }
   ],
   "source": [
    "# Cek data\n",
    "data_raw_normalize.head(3)"
   ]
  },
  {
   "cell_type": "code",
   "execution_count": 60,
   "metadata": {},
   "outputs": [
    {
     "name": "stdout",
     "output_type": "stream",
     "text": [
      "dataFrame columns:  Index(['key_as_string', 'key', 'doc_count', 'jumlah_meninggal.value',\n",
      "       'jumlah_sembuh.value', 'jumlah_positif.value', 'jumlah_dirawat.value',\n",
      "       'jumlah_positif_kum.value', 'jumlah_sembuh_kum.value',\n",
      "       'jumlah_meninggal_kum.value', 'jumlah_dirawat_kum.value'],\n",
      "      dtype='object')\n"
     ]
    }
   ],
   "source": [
    "# Cek nama columns sebelum diubah\n",
    "print('dataFrame columns: ', data_raw_normalize.columns)"
   ]
  },
  {
   "cell_type": "code",
   "execution_count": 61,
   "metadata": {},
   "outputs": [],
   "source": [
    "data_raw_normalize = data_raw_normalize.rename(columns={\"key_as_string\":\"date\"}) # key_as_string\n",
    "data_raw_normalize = data_raw_normalize.rename(columns={\"jumlah_meninggal.value\":\"kasus_meninggal\"}) # jumlah_meninggal.value\n",
    "data_raw_normalize = data_raw_normalize.rename(columns={\"jumlah_sembuh.value\":\"kasus_sembuh\"}) # jumlah_sembuh.value\n",
    "data_raw_normalize = data_raw_normalize.rename(columns={\"jumlah_positif.value\":\"kasus_positif\"}) # jumlah_positif.value\n",
    "data_raw_normalize = data_raw_normalize.rename(columns={\"jumlah_dirawat.value\":\"kasus_dirawat\"}) # jumlah_dirawat.value\n",
    "data_raw_normalize = data_raw_normalize.rename(columns={\"jumlah_positif_kum.value\":\"kumulatif_kasus_positif\"}) # jumlah_positif_kum.value\n",
    "data_raw_normalize = data_raw_normalize.rename(columns={\"jumlah_sembuh_kum.value\":\"kumulatif_kasus_sembuh\"}) # jumlah_positif.value\n",
    "data_raw_normalize = data_raw_normalize.rename(columns={\"jumlah_meninggal_kum.value\":\"kumulatif_kasus_meninggal\"}) # jumlah_positif.value\n",
    "data_raw_normalize = data_raw_normalize.rename(columns={\"jumlah_dirawat_kum.value\":\"kumulatif_kasus_dirawat\"}) # jumlah_positif.value"
   ]
  },
  {
   "cell_type": "code",
   "execution_count": 62,
   "metadata": {},
   "outputs": [
    {
     "name": "stdout",
     "output_type": "stream",
     "text": [
      "dataFrame columns:  Index(['date', 'key', 'doc_count', 'kasus_meninggal', 'kasus_sembuh',\n",
      "       'kasus_positif', 'kasus_dirawat', 'kumulatif_kasus_positif',\n",
      "       'kumulatif_kasus_sembuh', 'kumulatif_kasus_meninggal',\n",
      "       'kumulatif_kasus_dirawat'],\n",
      "      dtype='object')\n"
     ]
    }
   ],
   "source": [
    "# Setelah mengubah nama kolom\n",
    "print('dataFrame columns: ', data_raw_normalize.columns)"
   ]
  },
  {
   "cell_type": "code",
   "execution_count": 63,
   "metadata": {},
   "outputs": [],
   "source": [
    "# Selecting columns and reformat order columns\n",
    "df = data_raw_normalize[['date', 'kasus_positif', 'kasus_sembuh', 'kasus_dirawat', 'kasus_meninggal']]"
   ]
  },
  {
   "cell_type": "code",
   "execution_count": 64,
   "metadata": {},
   "outputs": [
    {
     "data": {
      "text/html": [
       "<div>\n",
       "<style scoped>\n",
       "    .dataframe tbody tr th:only-of-type {\n",
       "        vertical-align: middle;\n",
       "    }\n",
       "\n",
       "    .dataframe tbody tr th {\n",
       "        vertical-align: top;\n",
       "    }\n",
       "\n",
       "    .dataframe thead th {\n",
       "        text-align: right;\n",
       "    }\n",
       "</style>\n",
       "<table border=\"1\" class=\"dataframe\">\n",
       "  <thead>\n",
       "    <tr style=\"text-align: right;\">\n",
       "      <th></th>\n",
       "      <th>date</th>\n",
       "      <th>kasus_positif</th>\n",
       "      <th>kasus_sembuh</th>\n",
       "      <th>kasus_dirawat</th>\n",
       "      <th>kasus_meninggal</th>\n",
       "    </tr>\n",
       "  </thead>\n",
       "  <tbody>\n",
       "    <tr>\n",
       "      <th>0</th>\n",
       "      <td>2020-03-02</td>\n",
       "      <td>2</td>\n",
       "      <td>0</td>\n",
       "      <td>2</td>\n",
       "      <td>0</td>\n",
       "    </tr>\n",
       "    <tr>\n",
       "      <th>1</th>\n",
       "      <td>2020-03-03</td>\n",
       "      <td>0</td>\n",
       "      <td>0</td>\n",
       "      <td>0</td>\n",
       "      <td>0</td>\n",
       "    </tr>\n",
       "    <tr>\n",
       "      <th>2</th>\n",
       "      <td>2020-03-04</td>\n",
       "      <td>0</td>\n",
       "      <td>0</td>\n",
       "      <td>0</td>\n",
       "      <td>0</td>\n",
       "    </tr>\n",
       "    <tr>\n",
       "      <th>3</th>\n",
       "      <td>2020-03-05</td>\n",
       "      <td>0</td>\n",
       "      <td>0</td>\n",
       "      <td>0</td>\n",
       "      <td>0</td>\n",
       "    </tr>\n",
       "    <tr>\n",
       "      <th>4</th>\n",
       "      <td>2020-03-06</td>\n",
       "      <td>2</td>\n",
       "      <td>0</td>\n",
       "      <td>2</td>\n",
       "      <td>0</td>\n",
       "    </tr>\n",
       "  </tbody>\n",
       "</table>\n",
       "</div>"
      ],
      "text/plain": [
       "        date  kasus_positif  kasus_sembuh  kasus_dirawat  kasus_meninggal\n",
       "0 2020-03-02              2             0              2                0\n",
       "1 2020-03-03              0             0              0                0\n",
       "2 2020-03-04              0             0              0                0\n",
       "3 2020-03-05              0             0              0                0\n",
       "4 2020-03-06              2             0              2                0"
      ]
     },
     "execution_count": 64,
     "metadata": {},
     "output_type": "execute_result"
    }
   ],
   "source": [
    "df.head(5)"
   ]
  },
  {
   "cell_type": "code",
   "execution_count": 65,
   "metadata": {},
   "outputs": [
    {
     "name": "stdout",
     "output_type": "stream",
     "text": [
      "(757, 5)\n",
      "date               0\n",
      "kasus_positif      0\n",
      "kasus_sembuh       0\n",
      "kasus_dirawat      0\n",
      "kasus_meninggal    0\n",
      "dtype: int64\n"
     ]
    }
   ],
   "source": [
    "# Info jumlah data\n",
    "print(df.shape)\n",
    "\n",
    "# Data Info & Nullabel\n",
    "print(df.isnull().sum())"
   ]
  },
  {
   "cell_type": "code",
   "execution_count": 66,
   "metadata": {},
   "outputs": [
    {
     "name": "stdout",
     "output_type": "stream",
     "text": [
      "Stored 'df' (DataFrame)\n"
     ]
    }
   ],
   "source": [
    "%store df"
   ]
  }
 ],
 "metadata": {
  "interpreter": {
   "hash": "b5843a13e7131a14c3c0e364f0390d6592a995e3082c3f83420ac4385eeb2370"
  },
  "kernelspec": {
   "display_name": "Python 3.9.7 64-bit",
   "language": "python",
   "name": "python3"
  },
  "language_info": {
   "codemirror_mode": {
    "name": "ipython",
    "version": 3
   },
   "file_extension": ".py",
   "mimetype": "text/x-python",
   "name": "python",
   "nbconvert_exporter": "python",
   "pygments_lexer": "ipython3",
   "version": "3.9.7"
  },
  "orig_nbformat": 4
 },
 "nbformat": 4,
 "nbformat_minor": 2
}
